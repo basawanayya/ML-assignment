{
 "cells": [
  {
   "cell_type": "code",
   "execution_count": 6,
   "metadata": {},
   "outputs": [],
   "source": [
    "import numpy as np"
   ]
  },
  {
   "cell_type": "code",
   "execution_count": 7,
   "metadata": {},
   "outputs": [],
   "source": [
    "# first set 1 of data\n",
    "x_n=np.array([1,2,3,3])\n",
    "y_n=np.array([2,2,1,2])"
   ]
  },
  {
   "cell_type": "code",
   "execution_count": 8,
   "metadata": {},
   "outputs": [],
   "source": [
    "# second set 2 of data\n",
    "x_m=np.array([8,7,7,6])\n",
    "y_m=np.array([5,6,5,6])\n"
   ]
  },
  {
   "cell_type": "code",
   "execution_count": 9,
   "metadata": {},
   "outputs": [],
   "source": [
    "# point that we want to pridict\n",
    "x=np.array([3])\n",
    "y=np.array([5])"
   ]
  },
  {
   "cell_type": "code",
   "execution_count": 10,
   "metadata": {},
   "outputs": [],
   "source": [
    "dist_for_set1 = ((x - x_n)**2 + (y - y_n)**2)**.5\n",
    "dist_for_set2 = ((x - x_m)**2 + (y - y_m)**2)**.5"
   ]
  },
  {
   "cell_type": "code",
   "execution_count": 11,
   "metadata": {},
   "outputs": [
    {
     "name": "stdout",
     "output_type": "stream",
     "text": [
      "[3.60555128 3.16227766 4.         3.        ]\n",
      "[5.         4.12310563 4.         3.16227766]\n"
     ]
    }
   ],
   "source": [
    "print(dist_for_set1)\n",
    "print(dist_for_set2)"
   ]
  },
  {
   "cell_type": "code",
   "execution_count": 12,
   "metadata": {},
   "outputs": [],
   "source": [
    "set1=np.sort(dist_for_set1)\n",
    "set2=np.sort(dist_for_set2)"
   ]
  },
  {
   "cell_type": "code",
   "execution_count": 13,
   "metadata": {},
   "outputs": [
    {
     "name": "stdout",
     "output_type": "stream",
     "text": [
      "set1= [3.         3.16227766 3.60555128 4.        ]\n",
      "set2= [3.16227766 4.         4.12310563 5.        ]\n"
     ]
    }
   ],
   "source": [
    "print('set1=', set1)\n",
    "print('set2=', set2)"
   ]
  },
  {
   "cell_type": "code",
   "execution_count": 14,
   "metadata": {},
   "outputs": [],
   "source": [
    "set3=np.concatenate((set1,set2))"
   ]
  },
  {
   "cell_type": "code",
   "execution_count": 15,
   "metadata": {},
   "outputs": [
    {
     "data": {
      "text/plain": [
       "array([3.        , 3.16227766, 3.60555128, 4.        , 3.16227766,\n",
       "       4.        , 4.12310563, 5.        ])"
      ]
     },
     "execution_count": 15,
     "metadata": {},
     "output_type": "execute_result"
    }
   ],
   "source": [
    "set3"
   ]
  },
  {
   "cell_type": "code",
   "execution_count": 25,
   "metadata": {},
   "outputs": [
    {
     "name": "stdout",
     "output_type": "stream",
     "text": [
      "enter the value of k 4\n",
      "Belong to set 1\n"
     ]
    }
   ],
   "source": [
    "k=int(input('enter the value of k '))\n",
    "a=0\n",
    "b=0\n",
    "for i in range(k-1):\n",
    "    for j in range(len(dist_for_set1)-1):\n",
    "        if(dist_for_set1[i]== set3[j]):\n",
    "            a=a+1        \n",
    "    for l in range(len(dist_for_set2)-1):\n",
    "        if(dist_for_set2[l]==set3[j]):\n",
    "            b=b+1\n",
    "if(a>b):\n",
    "    print('Belongs to set 1')\n",
    "elif (a<b):\n",
    "    print(\"Belongs to set 2\")\n",
    "else:\n",
    "    print(\"cant predict\")"
   ]
  },
  {
   "cell_type": "code",
   "execution_count": null,
   "metadata": {},
   "outputs": [],
   "source": []
  },
  {
   "cell_type": "code",
   "execution_count": null,
   "metadata": {},
   "outputs": [],
   "source": []
  },
  {
   "cell_type": "code",
   "execution_count": null,
   "metadata": {},
   "outputs": [],
   "source": []
  }
 ],
 "metadata": {
  "kernelspec": {
   "display_name": "Python 3",
   "language": "python",
   "name": "python3"
  },
  "language_info": {
   "codemirror_mode": {
    "name": "ipython",
    "version": 3
   },
   "file_extension": ".py",
   "mimetype": "text/x-python",
   "name": "python",
   "nbconvert_exporter": "python",
   "pygments_lexer": "ipython3",
   "version": "3.6.4"
  }
 },
 "nbformat": 4,
 "nbformat_minor": 2
}
