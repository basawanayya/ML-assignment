{
  "nbformat": 4,
  "nbformat_minor": 0,
  "metadata": {
    "colab": {
      "name": "web scraping.ipynb",
      "provenance": [],
      "collapsed_sections": [],
      "include_colab_link": true
    },
    "kernelspec": {
      "name": "python3",
      "display_name": "Python 3"
    }
  },
  "cells": [
    {
      "cell_type": "markdown",
      "metadata": {
        "id": "view-in-github",
        "colab_type": "text"
      },
      "source": [
        "<a href=\"https://colab.research.google.com/github/basawanayya/ML-assignment/blob/master/web_scraping.ipynb\" target=\"_parent\"><img src=\"https://colab.research.google.com/assets/colab-badge.svg\" alt=\"Open In Colab\"/></a>"
      ]
    },
    {
      "cell_type": "code",
      "metadata": {
        "id": "5LYxOra8pzfi",
        "colab_type": "code",
        "colab": {}
      },
      "source": [
        "from bs4 import BeautifulSoup as soup"
      ],
      "execution_count": 0,
      "outputs": []
    },
    {
      "cell_type": "code",
      "metadata": {
        "id": "-xdN_pEFq6DU",
        "colab_type": "code",
        "colab": {}
      },
      "source": [
        "from urllib.request import urlopen as uReq"
      ],
      "execution_count": 0,
      "outputs": []
    },
    {
      "cell_type": "code",
      "metadata": {
        "id": "Oa30wfCUrTPM",
        "colab_type": "code",
        "colab": {}
      },
      "source": [
        "my_url = 'https://www.flipkart.com/search?q=iphone+11+phone&sid=tyy%2C4io&as=on&as-show=on&otracker=AS_QueryStore_OrganicAutoSuggest_1_2_na_na_pr&otracker1=AS_QueryStore_OrganicAutoSuggest_1_2_na_na_pr&as-pos=1&as-type=RECENT&suggestionId=iphone+11+phone%7Cin+Mobiles&requestId=e9a415fe-44f0-4d5d-826a-7d8d0b1a50d9&as-backfill=on'"
      ],
      "execution_count": 0,
      "outputs": []
    },
    {
      "cell_type": "code",
      "metadata": {
        "id": "J1SrPCAmsk-n",
        "colab_type": "code",
        "colab": {}
      },
      "source": [
        "uClient = uReq(my_url)\n",
        "page_html = uClient.read()\n",
        "uClient.close()\n",
        "page_soup = soup(page_html, 'html.parser')"
      ],
      "execution_count": 0,
      "outputs": []
    },
    {
      "cell_type": "code",
      "metadata": {
        "id": "JLV4RSPptQo6",
        "colab_type": "code",
        "colab": {}
      },
      "source": [
        "containers = page_soup.findAll('div',{'class':'_3O0U0u'})"
      ],
      "execution_count": 0,
      "outputs": []
    },
    {
      "cell_type": "code",
      "metadata": {
        "id": "QO6bhF9VvAeP",
        "colab_type": "code",
        "outputId": "cf328b2d-b335-46d8-8f2e-3d3f852530ff",
        "colab": {
          "base_uri": "https://localhost:8080/",
          "height": 34
        }
      },
      "source": [
        "print(len(containers))"
      ],
      "execution_count": 0,
      "outputs": [
        {
          "output_type": "stream",
          "text": [
            "24\n"
          ],
          "name": "stdout"
        }
      ]
    },
    {
      "cell_type": "code",
      "metadata": {
        "id": "MFUuWxWCwQWW",
        "colab_type": "code",
        "outputId": "a02ca807-6106-4e7e-bb28-63c33613d7e0",
        "colab": {
          "base_uri": "https://localhost:8080/",
          "height": 1000
        }
      },
      "source": [
        "print(soup.prettify(containers[0]))"
      ],
      "execution_count": 0,
      "outputs": [
        {
          "output_type": "stream",
          "text": [
            "<div class=\"_3O0U0u\">\n",
            " <div data-id=\"MOBFKCTSYAPWYFJ5\" style=\"width:100%\">\n",
            "  <div class=\"_1UoZlX\">\n",
            "   <a class=\"_31qSD5\" href=\"/apple-iphone-11-black-128-gb/p/itm06bac28995200?pid=MOBFKCTSYAPWYFJ5&amp;lid=LSTMOBFKCTSYAPWYFJ580EM6T&amp;marketplace=FLIPKART&amp;srno=s_1_1&amp;otracker=AS_QueryStore_OrganicAutoSuggest_1_2_na_na_pr&amp;otracker1=AS_QueryStore_OrganicAutoSuggest_1_2_na_na_pr&amp;fm=organic&amp;iid=64d84ff7-43ac-4968-a3ad-390cfcbf15be.MOBFKCTSYAPWYFJ5.SEARCH&amp;ssid=yep4o3pncg0000001577349726500&amp;qH=3422ffa2c9fac114\" rel=\"noopener noreferrer\" target=\"_blank\">\n",
            "    <div class=\"_3SQWE6\">\n",
            "     <div class=\"_1OCn9C\">\n",
            "      <div>\n",
            "       <div class=\"_3BTv9X\" style=\"height:200px;width:200px\">\n",
            "        <img alt=\"Apple iPhone 11 (Black, 128 GB)\" class=\"_1Nyybr\" src=\"//img1a.flixcart.com/www/linchpin/fk-cp-zion/img/placeholder_9951d0.svg\"/>\n",
            "       </div>\n",
            "      </div>\n",
            "     </div>\n",
            "     <div class=\"_2lesQu\">\n",
            "      <div class=\"_1O_CiZ\">\n",
            "       <span class=\"_1iHA1p\">\n",
            "        <div class=\"_2kFyHg\">\n",
            "         <label>\n",
            "          <input class=\"_3uUUD5\" readonly=\"\" type=\"checkbox\"/>\n",
            "          <div class=\"_1p7h2j\">\n",
            "          </div>\n",
            "         </label>\n",
            "        </div>\n",
            "       </span>\n",
            "       <label class=\"_10TB-Q\">\n",
            "        <span>\n",
            "         Add to Compare\n",
            "        </span>\n",
            "       </label>\n",
            "      </div>\n",
            "     </div>\n",
            "     <div class=\"_3gDSOa _32A6AP\">\n",
            "      <div class=\"DsQ2eg\">\n",
            "       <svg class=\"_2oLiqr\" height=\"16\" viewbox=\"0 0 20 16\" width=\"16\" xmlns=\"http://www.w3.org/2000/svg\">\n",
            "        <path class=\"_35Y7Yo\" d=\"M8.695 16.682C4.06 12.382 1 9.536 1 6.065 1 3.219 3.178 1 5.95 1c1.566 0 3.069.746 4.05 1.915C10.981 1.745 12.484 1 14.05 1 16.822 1 19 3.22 19 6.065c0 3.471-3.06 6.316-7.695 10.617L10 17.897l-1.305-1.215z\" fill=\"#2874F0\" fill-rule=\"evenodd\" opacity=\".9\" stroke=\"#FFF\">\n",
            "        </path>\n",
            "       </svg>\n",
            "      </div>\n",
            "     </div>\n",
            "    </div>\n",
            "    <div class=\"_1-2Iqu row\">\n",
            "     <div class=\"col col-7-12\">\n",
            "      <div class=\"_3wU53n\">\n",
            "       Apple iPhone 11 (Black, 128 GB)\n",
            "      </div>\n",
            "      <div class=\"niH0FQ\">\n",
            "       <span class=\"_2_KrJI\" id=\"productRating_LSTMOBFKCTSYAPWYFJ580EM6T_MOBFKCTSYAPWYFJ5_\">\n",
            "        <div class=\"hGSR34\">\n",
            "         4.7\n",
            "         <img class=\"_2lQ_WZ\" src=\"data:image/svg+xml;base64,PHN2ZyB4bWxucz0iaHR0cDovL3d3dy53My5vcmcvMjAwMC9zdmciIHdpZHRoPSIxMyIgaGVpZ2h0PSIxMiI+PHBhdGggZmlsbD0iI0ZGRiIgZD0iTTYuNSA5LjQzOWwtMy42NzQgMi4yMy45NC00LjI2LTMuMjEtMi44ODMgNC4yNTQtLjQwNEw2LjUuMTEybDEuNjkgNC4wMSA0LjI1NC40MDQtMy4yMSAyLjg4Mi45NCA0LjI2eiIvPjwvc3ZnPg==\"/>\n",
            "        </div>\n",
            "       </span>\n",
            "       <span class=\"_38sUEc\">\n",
            "        <span>\n",
            "         <span>\n",
            "          5,331 Ratings\n",
            "         </span>\n",
            "         <span class=\"_1VpSqZ\">\n",
            "          &amp;\n",
            "         </span>\n",
            "         <span>\n",
            "          515 Reviews\n",
            "         </span>\n",
            "        </span>\n",
            "       </span>\n",
            "      </div>\n",
            "      <div class=\"_3ULzGw\">\n",
            "       <ul class=\"vFw0gD\">\n",
            "        <li class=\"tVe95H\">\n",
            "         128 GB ROM |\n",
            "        </li>\n",
            "        <li class=\"tVe95H\">\n",
            "         15.49 cm (6.1 inch) Liquid Retina HD Display\n",
            "        </li>\n",
            "        <li class=\"tVe95H\">\n",
            "         12MP + 12MP | 12MP Front Camera\n",
            "        </li>\n",
            "        <li class=\"tVe95H\">\n",
            "         A13 Bionic Chip Processor\n",
            "        </li>\n",
            "        <li class=\"tVe95H\">\n",
            "         Brand Warranty for 1 Year\n",
            "        </li>\n",
            "       </ul>\n",
            "      </div>\n",
            "     </div>\n",
            "     <div class=\"col col-5-12 _2o7WAb\">\n",
            "      <div class=\"_6BWGkk\">\n",
            "       <div class=\"_1uv9Cb\">\n",
            "        <div class=\"_1vC4OE _2rQ-NK\">\n",
            "         ₹69,900\n",
            "        </div>\n",
            "       </div>\n",
            "      </div>\n",
            "      <div class=\"_3n6o0t\">\n",
            "       <img height=\"21\" src=\"//img1a.flixcart.com/www/linchpin/fk-cp-zion/img/fa_8b4b59.png\"/>\n",
            "      </div>\n",
            "      <div class=\"_2nE8_R\">\n",
            "       <div class=\"_3_G5Wj\" style=\"color:#000000;font-size:14px;font-family:inherit;font-weight:normal\">\n",
            "        No Cost EMI\n",
            "       </div>\n",
            "      </div>\n",
            "      <div class=\"_2nE8_R\">\n",
            "       <div class=\"_3_G5Wj\" style=\"color:#000000;font-size:14px;font-family:inherit;font-weight:normal\">\n",
            "        Upto\n",
            "       </div>\n",
            "       <div class=\"_3_G5Wj\" style=\"color:#000000;font-size:14px;font-family:inherit;font-weight:bold\">\n",
            "        ₹11,850\n",
            "       </div>\n",
            "       <div class=\"_3_G5Wj\" style=\"color:#000000;font-size:14px;font-family:inherit;font-weight:normal\">\n",
            "        Off on Exchange\n",
            "       </div>\n",
            "      </div>\n",
            "     </div>\n",
            "    </div>\n",
            "   </a>\n",
            "  </div>\n",
            " </div>\n",
            "</div>\n"
          ],
          "name": "stdout"
        }
      ]
    },
    {
      "cell_type": "code",
      "metadata": {
        "id": "7ICgjtJ5zdKT",
        "colab_type": "code",
        "outputId": "b367f58e-b956-4546-c78d-18ef81641695",
        "colab": {
          "base_uri": "https://localhost:8080/",
          "height": 34
        }
      },
      "source": [
        "container = containers[0]\n",
        "print(container.div.img['alt'])"
      ],
      "execution_count": 0,
      "outputs": [
        {
          "output_type": "stream",
          "text": [
            "Apple iPhone 11 (Black, 128 GB)\n"
          ],
          "name": "stdout"
        }
      ]
    },
    {
      "cell_type": "code",
      "metadata": {
        "id": "84m7Jcl616qR",
        "colab_type": "code",
        "outputId": "89ee498b-b436-426a-e08e-cf0ba71febcd",
        "colab": {
          "base_uri": "https://localhost:8080/",
          "height": 34
        }
      },
      "source": [
        "price = container.findAll('div',{'class':'col col-5-12 _2o7WAb'})\n",
        "print(price[0].text)"
      ],
      "execution_count": 0,
      "outputs": [
        {
          "output_type": "stream",
          "text": [
            "₹69,900No Cost EMIUpto ₹11,850 Off on Exchange\n"
          ],
          "name": "stdout"
        }
      ]
    },
    {
      "cell_type": "code",
      "metadata": {
        "id": "EI8epylD2rsS",
        "colab_type": "code",
        "outputId": "0e9482fb-e8bd-41e0-df66-6a651557e92d",
        "colab": {
          "base_uri": "https://localhost:8080/",
          "height": 34
        }
      },
      "source": [
        "rating = container.findAll('div',{'class':'niH0FQ'})\n",
        "print(rating[0].text)"
      ],
      "execution_count": 0,
      "outputs": [
        {
          "output_type": "stream",
          "text": [
            "4.75,331 Ratings & 515 Reviews\n"
          ],
          "name": "stdout"
        }
      ]
    },
    {
      "cell_type": "code",
      "metadata": {
        "id": "XZVD1nh74avU",
        "colab_type": "code",
        "colab": {}
      },
      "source": [
        "filename = 'products.csv'\n",
        "f = open(filename, 'w')"
      ],
      "execution_count": 0,
      "outputs": []
    },
    {
      "cell_type": "code",
      "metadata": {
        "id": "vl7YnBmx6gpB",
        "colab_type": "code",
        "outputId": "5f88ade2-6c1e-4dac-e84a-46f35f806d26",
        "colab": {
          "base_uri": "https://localhost:8080/",
          "height": 34
        }
      },
      "source": [
        "headers = 'product_name, pricing, rating\\n'\n",
        "f.write(headers)"
      ],
      "execution_count": 0,
      "outputs": [
        {
          "output_type": "execute_result",
          "data": {
            "text/plain": [
              "30"
            ]
          },
          "metadata": {
            "tags": []
          },
          "execution_count": 43
        }
      ]
    },
    {
      "cell_type": "code",
      "metadata": {
        "id": "NszIVDGT6-0n",
        "colab_type": "code",
        "outputId": "04e4e770-7232-43c7-d716-a41fd0174fca",
        "colab": {
          "base_uri": "https://localhost:8080/",
          "height": 833
        }
      },
      "source": [
        "for container in containers:\n",
        "  product_name = container.div.img['alt']\n",
        "  price_conrainer =  container.findAll('div',{'class':'col col-5-12 _2o7WAb'})\n",
        "  price =  price_conrainer[0].text.strip()\n",
        "\n",
        "  rating_container = container.findAll('div',{'class':'niH0FQ'})\n",
        "  rating =  rating_container[0].text\n",
        "\n",
        "\n",
        "  # print('product_name:' + product_name)\n",
        "  # print('price:'+ price)\n",
        "  # print('rating:' + rating)\n",
        "\n",
        "\n",
        "  trim_price = ''.join(price.split(','))\n",
        "  rm_rupee = trim_price.split('₹')\n",
        "  add_rs_price = 'Rs.'+ rm_rupee[1]\n",
        "  split_price = add_rs_price.split('E')\n",
        "  final_price = split_price[0]\n",
        "\n",
        "\n",
        "  split_rating= rating.split(' ')\n",
        "  final_rating = split_rating[0]\n",
        "\n",
        "\n",
        "  print(product_name.replace(\",\", \"|\") + ',' + final_price + ',' + final_rating + \"\\n\")\n",
        "  f.write(product_name.replace(',', '|') + ',' + final_price + ',' + final_rating + \"\\n\")\n",
        "\n",
        "f.close()"
      ],
      "execution_count": 0,
      "outputs": [
        {
          "output_type": "stream",
          "text": [
            "Apple iPhone 11 (Black| 128 GB),Rs.69900No Cost ,4.75,331\n",
            "\n",
            "Apple iPhone 11 (White| 128 GB),Rs.69900No Cost ,4.75,331\n",
            "\n",
            "Apple iPhone 11 (Black| 64 GB),Rs.64900No Cost ,4.75,331\n",
            "\n",
            "Apple iPhone 11 (Purple| 64 GB),Rs.64900No Cost ,4.75,331\n",
            "\n",
            "Apple iPhone 11 (Red| 128 GB),Rs.69900No Cost ,4.75,331\n",
            "\n",
            "Apple iPhone 11 (Red| 64 GB),Rs.64900No Cost ,4.75,331\n",
            "\n",
            "Apple iPhone 11 Pro (Midnight Green| 64 GB),Rs.99900No Cost ,4.7786\n",
            "\n",
            "Apple iPhone 11 (Yellow| 64 GB),Rs.64900No Cost ,4.75,331\n",
            "\n",
            "Apple iPhone 11 Pro (Silver| 256 GB),Rs.113900No Cost ,4.7786\n",
            "\n",
            "Apple iPhone 11 Pro (Space Grey| 64 GB),Rs.99900No Cost ,4.7786\n",
            "\n",
            "Apple iPhone 11 Pro (Midnight Green| 256 GB),Rs.113900No Cost ,4.7786\n",
            "\n",
            "Apple iPhone 11 Pro Max (Gold| 256 GB),Rs.123900No Cost ,4.7583\n",
            "\n",
            "Apple iPhone X (Silver| 256 GB),Rs.72890,4.610,501\n",
            "\n",
            "Apple iPhone 11 Pro Max (Silver| 64 GB),Rs.109900No Cost ,4.7583\n",
            "\n",
            "Apple iPhone 11 Pro (Gold| 64 GB),Rs.99900No Cost ,4.7786\n",
            "\n",
            "Apple iPhone 11 Pro Max (Midnight Green| 64 GB),Rs.109900No Cost ,4.7583\n",
            "\n",
            "Apple iPhone 11 Pro (Silver| 64 GB),Rs.99900No Cost ,4.7786\n",
            "\n",
            "Apple iPhone 11 Pro Max (Gold| 64 GB),Rs.109900No Cost ,4.7583\n",
            "\n",
            "Apple iPhone 11 Pro (Gold| 256 GB),Rs.113900No Cost ,4.7786\n",
            "\n",
            "Apple iPhone 11 Pro Max (Space Grey| 256 GB),Rs.123900No Cost ,4.7583\n",
            "\n",
            "Apple iPhone 11 Pro (Gold| 512 GB),Rs.131900No Cost ,4.7786\n",
            "\n",
            "Apple iPhone 11 (White| 64 GB),Rs.64900No Cost ,4.75,331\n",
            "\n",
            "Apple iPhone 11 Pro Max (Midnight Green| 256 GB),Rs.123900No Cost ,4.7583\n",
            "\n",
            "Apple iPhone 11 Pro Max (Space Grey| 64 GB),Rs.109900No Cost ,4.7583\n",
            "\n"
          ],
          "name": "stdout"
        }
      ]
    },
    {
      "cell_type": "code",
      "metadata": {
        "id": "xJSHdiycEH52",
        "colab_type": "code",
        "colab": {}
      },
      "source": [
        ""
      ],
      "execution_count": 0,
      "outputs": []
    }
  ]
}